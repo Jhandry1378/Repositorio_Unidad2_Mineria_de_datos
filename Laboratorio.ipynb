{
 "cells": [
  {
   "cell_type": "code",
   "execution_count": 25,
   "id": "807d0856",
   "metadata": {},
   "outputs": [
    {
     "name": "stdout",
     "output_type": "stream",
     "text": [
      "importacion de librerias\n"
     ]
    }
   ],
   "source": [
    "def librerias():\n",
    "  '''importacion de librerias'''\n",
    "import pandas\n",
    "import pydotplus\n",
    "import seaborn as sns\n",
    "from sklearn import tree\n",
    "from six import StringIO\n",
    "from sklearn import metrics\n",
    "import matplotlib.pyplot as plt\n",
    "from IPython.display import Image\n",
    "from sklearn.metrics import confusion_matrix\n",
    "from sklearn.metrics import plot_confusion_matrix\n",
    "from sklearn.metrics import classification_report\n",
    "from sklearn.metrics import accuracy_score, precision_score\n",
    "from sklearn.tree import DecisionTreeClassifier, export_graphviz\n",
    "print(librerias.__doc__)"
   ]
  },
  {
   "cell_type": "code",
   "execution_count": 26,
   "id": "5ef5baf1",
   "metadata": {},
   "outputs": [
    {
     "name": "stdout",
     "output_type": "stream",
     "text": [
      "      ID  No_Pation Gender  AGE  Urea  Cr  HbA1c  Chol   TG  HDL  LDL  VLDL  \\\n",
      "0    502      17975      F   50   4.7  46    4.9   4.2  0.9  2.4  1.4   0.5   \n",
      "1    735      34221      M   26   4.5  62    4.9   3.7  1.4  1.1  2.1   0.6   \n",
      "2    420      47975      F   50   4.7  46    4.9   4.2  0.9  2.4  1.4   0.5   \n",
      "3    680      87656      F   50   4.7  46    4.9   4.2  0.9  2.4  1.4   0.5   \n",
      "4    504      34223      M   33   7.1  46    4.9   4.9  1.0  0.8  2.0   0.4   \n",
      "..   ...        ...    ...  ...   ...  ..    ...   ...  ...  ...  ...   ...   \n",
      "995  200     454317      M   71  11.0  97    7.0   7.5  1.7  1.2  1.8   0.6   \n",
      "996  671     876534      M   31   3.0  60   12.3   4.1  2.2  0.7  2.4  15.4   \n",
      "997  669      87654      M   30   7.1  81    6.7   4.1  1.1  1.2  2.4   8.1   \n",
      "998   99      24004      M   38   5.8  59    6.7   5.3  2.0  1.6  2.9  14.0   \n",
      "999  248      24054      M   54   5.0  67    6.9   3.8  1.7  1.1  3.0   0.7   \n",
      "\n",
      "      BMI CLASS  \n",
      "0    24.0     N  \n",
      "1    23.0     N  \n",
      "2    24.0     N  \n",
      "3    24.0     N  \n",
      "4    21.0     N  \n",
      "..    ...   ...  \n",
      "995  30.0     Y  \n",
      "996  37.2    Y   \n",
      "997  27.4    Y   \n",
      "998  40.5    Y   \n",
      "999  33.0    Y   \n",
      "\n",
      "[1000 rows x 14 columns]  Carga de datos del dataset diabetes e impresion\n"
     ]
    }
   ],
   "source": [
    "def cargar():\n",
    "  ''' Carga de datos del dataset diabetes e impresion'''\n",
    "df = pd.read_csv(\"diabetes1.csv\")\n",
    "df.head()\n",
    "print(df, cargar.__doc__)"
   ]
  },
  {
   "cell_type": "code",
   "execution_count": 27,
   "id": "6e67b6e6",
   "metadata": {},
   "outputs": [
    {
     "name": "stdout",
     "output_type": "stream",
     "text": [
      "Agrupo los datos correspondientes al genero para despues manejar de mejor manera los datos\n"
     ]
    }
   ],
   "source": [
    "def agrup1():\n",
    " '''Agrupo los datos correspondientes al genero para despues manejar de mejor manera los datos'''\n",
    "df.groupby('Gender').size()\n",
    "df.groupby('CLASS').size()\n",
    "\n",
    "print( agrup1.__doc__)"
   ]
  },
  {
   "cell_type": "code",
   "execution_count": 28,
   "id": "23f72ac8",
   "metadata": {},
   "outputs": [
    {
     "name": "stdout",
     "output_type": "stream",
     "text": [
      "Se realiza la limpieza de datos es decir se reemplaza la minuscula por la letra mayuscula de genero y tambien de la variable objetivo \n"
     ]
    }
   ],
   "source": [
    "def agrup2():\n",
    " '''Se realiza la limpieza de datos es decir se reemplaza la minuscula por la letra mayuscula de genero y tambien de la variable objetivo '''\n",
    "df['Gender']=df['Gender'].replace('f','F')\n",
    "df['CLASS']=df['CLASS'].replace('Y ','Y')\n",
    "df['CLASS']=df['CLASS'].replace('N ','N')\n",
    "print( agrup2.__doc__)"
   ]
  },
  {
   "cell_type": "code",
   "execution_count": 29,
   "id": "833885f1",
   "metadata": {},
   "outputs": [
    {
     "name": "stdout",
     "output_type": "stream",
     "text": [
      "Conversion de datos string a numericos de genero\n"
     ]
    }
   ],
   "source": [
    "def conversion():\n",
    " '''Conversion de datos string a numericos de genero'''\n",
    "dato1 = {'M': 1, 'F': 0}\n",
    "df['Gender'] = df['Gender'].map(dato1)\n",
    "print( conversion.__doc__)"
   ]
  },
  {
   "cell_type": "code",
   "execution_count": 30,
   "id": "19d93317",
   "metadata": {},
   "outputs": [
    {
     "name": "stdout",
     "output_type": "stream",
     "text": [
      "Conversion de datos string a numericos de CLASS\n"
     ]
    }
   ],
   "source": [
    "def transformacion():\n",
    " '''Conversion de datos string a numericos de CLASS'''\n",
    "dato2= {'N': 0, 'P': 1, 'Y': 2}\n",
    "df['CLASS'] = df['CLASS'].map(dato2)\n",
    "print( transformacion.__doc__)"
   ]
  },
  {
   "cell_type": "code",
   "execution_count": 33,
   "id": "d41c4bf1",
   "metadata": {},
   "outputs": [
    {
     "name": "stdout",
     "output_type": "stream",
     "text": [
      "Se usa para imprimir      ID  No_Pation  Gender  AGE  Urea  Cr  HbA1c  Chol   TG  HDL  LDL  VLDL  \\\n",
      "0  502      17975       0   50   4.7  46    4.9   4.2  0.9  2.4  1.4   0.5   \n",
      "1  735      34221       1   26   4.5  62    4.9   3.7  1.4  1.1  2.1   0.6   \n",
      "2  420      47975       0   50   4.7  46    4.9   4.2  0.9  2.4  1.4   0.5   \n",
      "3  680      87656       0   50   4.7  46    4.9   4.2  0.9  2.4  1.4   0.5   \n",
      "4  504      34223       1   33   7.1  46    4.9   4.9  1.0  0.8  2.0   0.4   \n",
      "\n",
      "    BMI  CLASS  \n",
      "0  24.0      0  \n",
      "1  23.0      0  \n",
      "2  24.0      0  \n",
      "3  24.0      0  \n",
      "4  21.0      0  \n"
     ]
    }
   ],
   "source": [
    "def imprimir():\n",
    " '''Se usa para imprimir '''\n",
    "df.head()\n",
    "print( imprimir.__doc__, df.head())"
   ]
  },
  {
   "cell_type": "code",
   "execution_count": 35,
   "id": "1b0a4042",
   "metadata": {},
   "outputs": [
    {
     "name": "stdout",
     "output_type": "stream",
     "text": [
      "Se hace uso de los nombres de la variable X como sus caracteristcias y tambien se asigna Y la variable objetivo en este caso nuestra variable objetivo es CLASS      Gender  AGE  Urea  Cr  HbA1c  Chol   TG  HDL  LDL  VLDL   BMI\n",
      "0         0   50   4.7  46    4.9   4.2  0.9  2.4  1.4   0.5  24.0\n",
      "1         1   26   4.5  62    4.9   3.7  1.4  1.1  2.1   0.6  23.0\n",
      "2         0   50   4.7  46    4.9   4.2  0.9  2.4  1.4   0.5  24.0\n",
      "3         0   50   4.7  46    4.9   4.2  0.9  2.4  1.4   0.5  24.0\n",
      "4         1   33   7.1  46    4.9   4.9  1.0  0.8  2.0   0.4  21.0\n",
      "..      ...  ...   ...  ..    ...   ...  ...  ...  ...   ...   ...\n",
      "995       1   71  11.0  97    7.0   7.5  1.7  1.2  1.8   0.6  30.0\n",
      "996       1   31   3.0  60   12.3   4.1  2.2  0.7  2.4  15.4  37.2\n",
      "997       1   30   7.1  81    6.7   4.1  1.1  1.2  2.4   8.1  27.4\n",
      "998       1   38   5.8  59    6.7   5.3  2.0  1.6  2.9  14.0  40.5\n",
      "999       1   54   5.0  67    6.9   3.8  1.7  1.1  3.0   0.7  33.0\n",
      "\n",
      "[1000 rows x 11 columns] 0      0\n",
      "1      0\n",
      "2      0\n",
      "3      0\n",
      "4      0\n",
      "      ..\n",
      "995    2\n",
      "996    2\n",
      "997    2\n",
      "998    2\n",
      "999    2\n",
      "Name: CLASS, Length: 1000, dtype: int64\n"
     ]
    }
   ],
   "source": [
    "def caracteristicas():\n",
    " '''Se hace uso de los nombres de la variable X como sus caracteristcias y tambien se asigna Y la variable objetivo en este caso nuestra variable objetivo es CLASS''' \n",
    "features = ['Gender', 'AGE', 'Urea','Cr','HbA1c', 'Chol', 'TG','HDL','LDL', 'VLDL', 'BMI']\n",
    "X = df[features]\n",
    "y = df.CLASS\n",
    "print( caracteristicas.__doc__,X,y)"
   ]
  },
  {
   "cell_type": "code",
   "execution_count": 37,
   "id": "417b7605",
   "metadata": {},
   "outputs": [
    {
     "name": "stdout",
     "output_type": "stream",
     "text": [
      "clasificacion de los datos donde voy a designar el 70% para entrenamiento y el 30% para prueba\n"
     ]
    }
   ],
   "source": [
    "def div():\n",
    " '''clasificacion de los datos donde voy a designar el 70% para entrenamiento y el 30% para prueba'''\n",
    "X_train, X_test, y_train, y_test = train_test_split(X, y, test_size=0.3, random_state=1)\n",
    "print( div.__doc__)"
   ]
  },
  {
   "cell_type": "code",
   "execution_count": 38,
   "id": "569b088a",
   "metadata": {},
   "outputs": [
    {
     "name": "stdout",
     "output_type": "stream",
     "text": [
      "La primera linea de codigo es la construccion de un clasificador, la segunda llama a las caracteristicas y etiquetas y la tercera realiza en si los test para la prediccion.       ID  No_Pation  Gender  AGE  Urea  Cr  HbA1c  Chol   TG  HDL  LDL  VLDL  \\\n",
      "0  502      17975       0   50   4.7  46    4.9   4.2  0.9  2.4  1.4   0.5   \n",
      "1  735      34221       1   26   4.5  62    4.9   3.7  1.4  1.1  2.1   0.6   \n",
      "2  420      47975       0   50   4.7  46    4.9   4.2  0.9  2.4  1.4   0.5   \n",
      "3  680      87656       0   50   4.7  46    4.9   4.2  0.9  2.4  1.4   0.5   \n",
      "4  504      34223       1   33   7.1  46    4.9   4.9  1.0  0.8  2.0   0.4   \n",
      "\n",
      "    BMI  CLASS  \n",
      "0  24.0      0  \n",
      "1  23.0      0  \n",
      "2  24.0      0  \n",
      "3  24.0      0  \n",
      "4  21.0      0  \n",
      "La primera linea de codigo es la construccion de un clasificador, la segunda llama a las caracteristicas y etiquetas y la tercera realiza en si los test para la prediccion.  \n"
     ]
    }
   ],
   "source": [
    "def clasificador():\n",
    " '''La primera linea de codigo es la construccion de un clasificador, la segunda llama a las caracteristicas y etiquetas y la tercera realiza en si los test para la prediccion.  '''\n",
    "clf = DecisionTreeClassifier()\n",
    "clf = clf.fit(X_train, y_train)\n",
    "print( clasificador.__doc__, df.head())\n",
    "y_pred = clf.predict(X_test)\n",
    "print( clasificador.__doc__)"
   ]
  },
  {
   "cell_type": "code",
   "execution_count": null,
   "id": "22b7b416",
   "metadata": {},
   "outputs": [],
   "source": []
  }
 ],
 "metadata": {
  "kernelspec": {
   "display_name": "Python 3 (ipykernel)",
   "language": "python",
   "name": "python3"
  },
  "language_info": {
   "codemirror_mode": {
    "name": "ipython",
    "version": 3
   },
   "file_extension": ".py",
   "mimetype": "text/x-python",
   "name": "python",
   "nbconvert_exporter": "python",
   "pygments_lexer": "ipython3",
   "version": "3.9.7"
  }
 },
 "nbformat": 4,
 "nbformat_minor": 5
}
